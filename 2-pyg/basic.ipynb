{
 "cells": [
  {
   "cell_type": "markdown",
   "metadata": {},
   "source": [
    "# 图结构可视化"
   ]
  },
  {
   "cell_type": "code",
   "execution_count": 13,
   "metadata": {},
   "outputs": [
    {
     "data": {
      "image/png": "[encoded data removed]",
      "text/plain": "<Figure size 432x288 with 1 Axes>"
     },
     "metadata": {},
     "output_type": "display_data"
    }
   ],
   "source": [
    "import torch\r\n",
    "from torch_geometric.data import Data\r\n",
    "from torch_geometric.utils import convert\r\n",
    "from networkx import draw_kamada_kawai\r\n",
    "import matplotlib.pyplot as plt\r\n",
    "\r\n",
    "edge_index = torch.tensor([[0, 1, 1, 2],\r\n",
    "                           [1, 0, 2, 1]], dtype=torch.long)\r\n",
    "x = torch.tensor([[-1], [0], [1]], dtype=torch.float)\r\n",
    "\r\n",
    "data = Data(x=x, edge_index=edge_index)\r\n",
    "\r\n",
    "dg = convert.to_networkx(data)\r\n",
    "draw_kamada_kawai(dg,with_labels=True)\r\n",
    "plt.show()\r\n"
   ]
  },
  {
   "cell_type": "code",
   "execution_count": null,
   "metadata": {},
   "outputs": [],
   "source": [
    "import torch\r\n",
    "from torch_geometric.data import Data\r\n",
    "from torch_geometric.utils import Data\r\n",
    "from networkx import draw_kamada_kawai\r\n",
    "\r\n",
    "\r\n",
    "edge_index = torch.tensor([[0, 1, 1, 2],\r\n",
    "                           [1, 0, 2, 1]], dtype=torch.long)\r\n",
    "x = torch.tensor([[-1], [0], [1]], dtype=torch.float)\r\n",
    "\r\n",
    "data = Data(x=x, edge_index=edge_index)\r\n",
    "\r\n",
    "\r\n"
   ]
  },
  {
   "cell_type": "markdown",
   "metadata": {},
   "source": [
    "# 自定义数据集"
   ]
  },
  {
   "cell_type": "code",
   "execution_count": null,
   "metadata": {},
   "outputs": [],
   "source": [
    "\r\n"
   ]
  }
 ],
 "metadata": {
  "kernelspec": {
   "display_name": "Python 3.6.5 64-bit",
   "name": "python365jvsc74a57bd0d40de887f4a13ad2056e4865f46142380a0589fe8c320ce9f1a7922bed4b3802"
  },
  "language_info": {
   "codemirror_mode": {
    "name": "ipython",
    "version": 3
   },
   "file_extension": ".py",
   "mimetype": "text/x-python",
   "name": "python",
   "nbconvert_exporter": "python",
   "pygments_lexer": "ipython3",
   "version": "3.6.5"
  },
  "metadata": {
   "interpreter": {
    "hash": "d40de887f4a13ad2056e4865f46142380a0589fe8c320ce9f1a7922bed4b3802"
   }
  },
  "orig_nbformat": 2
 },
 "nbformat": 4,
 "nbformat_minor": 2
}