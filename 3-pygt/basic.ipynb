{
 "cells": [
  {
   "cell_type": "markdown",
   "metadata": {},
   "source": [
    "# PyTorch Geometric Temporal 基础\r\n",
    "以 wiki 流量为例"
   ]
  },
  {
   "cell_type": "code",
   "execution_count": 1,
   "metadata": {},
   "outputs": [],
   "source": [
    "from torch_geometric_temporal.dataset import WikiMathsDatasetLoader\r\n",
    "from torch_geometric_temporal.signal import temporal_signal_split\r\n",
    "\r\n",
    "## 加载这个数据集需要科学上网 \r\n",
    "loader = WikiMathsDatasetLoader()\r\n",
    "\r\n",
    "dataset = loader.get_dataset(lags=14)\r\n",
    "\r\n",
    "train_dataset, test_dataset = temporal_signal_split(dataset, train_ratio=0.5)"
   ]
  },
  {
   "cell_type": "code",
   "execution_count": 2,
   "metadata": {},
   "outputs": [],
   "source": [
    "import torch\r\n",
    "import torch.nn.functional as F\r\n",
    "from torch_geometric_temporal.nn.recurrent import GConvGRU\r\n",
    "\r\n",
    "class RecurrentGCN(torch.nn.Module):\r\n",
    "    def __init__(self, node_features, filters):\r\n",
    "        super(RecurrentGCN, self).__init__()\r\n",
    "        self.recurrent = GConvGRU(node_features, filters, 2)\r\n",
    "        self.linear = torch.nn.Linear(filters, 1)\r\n",
    "\r\n",
    "    def forward(self, x, edge_index, edge_weight):\r\n",
    "        h = self.recurrent(x, edge_index, edge_weight)\r\n",
    "        h = F.relu(h)\r\n",
    "        h = self.linear(h)\r\n",
    "        return h"
   ]
  },
  {
   "cell_type": "code",
   "execution_count": 3,
   "metadata": {},
   "outputs": [
    {
     "name": "stderr",
     "output_type": "stream",
     "text": [
      "100%|██████████| 50/50 [20:39<00:00, 24.79s/it]\n"
     ]
    }
   ],
   "source": [
    "from tqdm import tqdm\r\n",
    "\r\n",
    "device = torch.device('cuda' if torch.cuda.is_available() else 'cpu')\r\n",
    "model = RecurrentGCN(node_features=14, filters=32).to(device)\r\n",
    "\r\n",
    "optimizer = torch.optim.Adam(model.parameters(), lr=0.01)\r\n",
    "\r\n",
    "model.train()\r\n",
    "\r\n",
    "for epoch in tqdm(range(50)):\r\n",
    "    for time, snapshot in enumerate(train_dataset):\r\n",
    "        y_hat = model(snapshot.x, snapshot.edge_index, snapshot.edge_attr)\r\n",
    "        cost = torch.mean((y_hat-snapshot.y)**2)\r\n",
    "        cost.backward()\r\n",
    "        optimizer.step()\r\n",
    "        optimizer.zero_grad()"
   ]
  },
  {
   "cell_type": "code",
   "execution_count": 4,
   "metadata": {},
   "outputs": [
    {
     "name": "stdout",
     "output_type": "stream",
     "text": [
      "MSE: 0.7754\n"
     ]
    }
   ],
   "source": [
    "model.eval()\r\n",
    "cost = 0\r\n",
    "for time, snapshot in enumerate(test_dataset):\r\n",
    "    y_hat = model(snapshot.x, snapshot.edge_index, snapshot.edge_attr)\r\n",
    "    cost = cost + torch.mean((y_hat-snapshot.y)**2)\r\n",
    "cost = cost / (time+1)\r\n",
    "cost = cost.item()\r\n",
    "print(\"MSE: {:.4f}\".format(cost))"
   ]
  }
 ],
 "metadata": {
  "kernelspec": {
   "display_name": "Python 3.6.5 64-bit",
   "name": "python365jvsc74a57bd038d9ec69a8173de65002d02735c48d4e734be99931a92c5fe22af510570cbc4b"
  },
  "language_info": {
   "codemirror_mode": {
    "name": "ipython",
    "version": 3
   },
   "file_extension": ".py",
   "mimetype": "text/x-python",
   "name": "python",
   "nbconvert_exporter": "python",
   "pygments_lexer": "ipython3",
   "version": "3.6.5"
  },
  "metadata": {
   "interpreter": {
    "hash": "38d9ec69a8173de65002d02735c48d4e734be99931a92c5fe22af510570cbc4b"
   }
  },
  "orig_nbformat": 2
 },
 "nbformat": 4,
 "nbformat_minor": 2
}