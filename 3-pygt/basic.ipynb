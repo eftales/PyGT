{
 "cells": [
  {
   "cell_type": "markdown",
   "metadata": {},
   "source": [
    "# PyTorch Geometric Temporal 基础\n",
    "以 wiki 流量为例"
   ]
  },
  {
   "cell_type": "code",
   "execution_count": 1,
   "metadata": {},
   "outputs": [],
   "source": [
    "from torch_geometric_temporal.dataset import WikiMathsDatasetLoader\n",
    "from torch_geometric_temporal.signal import temporal_signal_split\n",
    "\n",
    "\n",
    "## 加载这个数据集需要科学上网 \n",
    "loader = WikiMathsDatasetLoader()\n",
    "\n",
    "dataset = loader.get_dataset(lags=14)\n",
    "\n",
    "train_dataset, test_dataset = temporal_signal_split(dataset, train_ratio=0.5)"
   ]
  },
  {
   "cell_type": "code",
   "execution_count": 2,
   "metadata": {},
   "outputs": [],
   "source": [
    "import torch\n",
    "import torch.nn.functional as F\n",
    "from torch_geometric_temporal.nn.recurrent import GConvGRU\n",
    "\n",
    "class RecurrentGCN(torch.nn.Module):\n",
    "    def __init__(self, node_features, filters):\n",
    "        super(RecurrentGCN, self).__init__()\n",
    "        self.recurrent = GConvGRU(node_features, filters, 2)\n",
    "        self.linear = torch.nn.Linear(filters, 1)\n",
    "\n",
    "    def forward(self, x, edge_index, edge_weight):\n",
    "        h = self.recurrent(x, edge_index, edge_weight)\n",
    "        h = F.relu(h)\n",
    "        h = self.linear(h)\n",
    "        return h"
   ]
  },
  {
   "cell_type": "code",
   "execution_count": 3,
   "metadata": {},
   "outputs": [],
   "source": [
    "from tqdm import tqdm\n",
    "\n",
    "device = torch.device('cuda' if torch.cuda.is_available() else 'cpu')\n",
    "model = RecurrentGCN(node_features=14, filters=32).to(device)\n",
    "\n",
    "optimizer = torch.optim.Adam(model.parameters(), lr=0.01)\n",
    "\n",
    "model.train()\n",
    "\n",
    "## 迁移数据到 gpu\n",
    "train_dataset_gpu = []\n",
    "for snapshot in train_dataset:\n",
    "    train_dataset_gpu.append(snapshot.to(device=device)) # 将数据迁移到 device\n",
    "\n"
   ]
  },
  {
   "cell_type": "code",
   "execution_count": 4,
   "metadata": {},
   "outputs": [
    {
     "name": "stdout",
     "output_type": "stream",
     "text": [
      "Adam (\n",
      "Parameter Group 0\n",
      "    amsgrad: False\n",
      "    betas: (0.9, 0.999)\n",
      "    eps: 1e-08\n",
      "    lr: 0.01\n",
      "    weight_decay: 0\n",
      ")\n",
      "tensor([[   0,    0,    0,  ..., 1056, 1063, 1065],\n",
      "        [   1,    2,    3,  ..., 1059, 1064, 1066]], device='cuda:0')\n",
      "tensor([1., 4., 2.,  ..., 1., 1., 2.], device='cuda:0')\n"
     ]
    }
   ],
   "source": [
    "device\n",
    "print(optimizer)\n",
    "print(train_dataset_gpu[0].edge_index)\n",
    "print(train_dataset_gpu[0].edge_attr)\n"
   ]
  },
  {
   "cell_type": "code",
   "execution_count": 5,
   "metadata": {},
   "outputs": [
    {
     "name": "stderr",
     "output_type": "stream",
     "text": [
      "100%|██████████| 50/50 [03:37<00:00,  4.35s/it]\n"
     ]
    }
   ],
   "source": [
    "## 训练\n",
    "for epoch in tqdm(range(50)):\n",
    "    for time, snapshot in enumerate(train_dataset_gpu):\n",
    "        snapshot.to(device=device) # 将数据迁移到 device\n",
    "        y_hat = model(snapshot.x, snapshot.edge_index, snapshot.edge_attr).to(device)\n",
    "        cost = torch.mean((y_hat-snapshot.y)**2).to(device)\n",
    "        cost.backward()\n",
    "        optimizer.step()\n",
    "        optimizer.zero_grad()"
   ]
  },
  {
   "cell_type": "code",
   "execution_count": 6,
   "metadata": {},
   "outputs": [
    {
     "name": "stdout",
     "output_type": "stream",
     "text": [
      "MSE: 0.7977\n"
     ]
    }
   ],
   "source": [
    "model.eval()\n",
    "cost = 0\n",
    "for time, snapshot in enumerate(test_dataset):\n",
    "    snapshot.to(device=device)\n",
    "    y_hat = model(snapshot.x, snapshot.edge_index, snapshot.edge_attr)\n",
    "    cost = cost + torch.mean((y_hat-snapshot.y)**2)\n",
    "cost = cost / (time+1)\n",
    "cost = cost.item()\n",
    "print(\"MSE: {:.4f}\".format(cost))"
   ]
  }
 ],
 "metadata": {
  "kernelspec": {
   "display_name": "Python 3.8.0 64-bit",
   "language": "python",
   "name": "python3"
  },
  "language_info": {
   "codemirror_mode": {
    "name": "ipython",
    "version": 3
   },
   "file_extension": ".py",
   "mimetype": "text/x-python",
   "name": "python",
   "nbconvert_exporter": "python",
   "pygments_lexer": "ipython3",
   "version": "3.8.0"
  },
  "metadata": {
   "interpreter": {
    "hash": "38d9ec69a8173de65002d02735c48d4e734be99931a92c5fe22af510570cbc4b"
   }
  },
  "orig_nbformat": 2,
  "vscode": {
   "interpreter": {
    "hash": "275d11e0cefd720a01f406769630aa7353eb9619b55fe184031563d77d354816"
   }
  }
 },
 "nbformat": 4,
 "nbformat_minor": 2
}
